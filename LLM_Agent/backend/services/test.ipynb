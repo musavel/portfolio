{
 "cells": [
  {
   "cell_type": "code",
   "execution_count": 5,
   "metadata": {},
   "outputs": [],
   "source": [
    "import os\n",
    "import sys\n",
    "import re\n",
    "from typing import Dict, Optional\n",
    "from langchain_core.prompts import PromptTemplate, ChatPromptTemplate, FewShotPromptTemplate\n",
    "from langchain_core.output_parsers import StrOutputParser\n",
    "from langchain_openai import ChatOpenAI"
   ]
  },
  {
   "cell_type": "code",
   "execution_count": null,
   "metadata": {},
   "outputs": [
    {
     "ename": "NameError",
     "evalue": "name 'set_llm' is not defined",
     "output_type": "error",
     "traceback": [
      "\u001b[31m---------------------------------------------------------------------------\u001b[39m",
      "\u001b[31mNameError\u001b[39m                                 Traceback (most recent call last)",
      "\u001b[36mCell\u001b[39m\u001b[36m \u001b[39m\u001b[32mIn[3]\u001b[39m\u001b[32m, line 1\u001b[39m\n\u001b[32m----> \u001b[39m\u001b[32m1\u001b[39m llm = \u001b[43mset_llm\u001b[49m(temperature=\u001b[32m0.7\u001b[39m)\n",
      "\u001b[31mNameError\u001b[39m: name 'set_llm' is not defined"
     ]
    }
   ],
   "source": [
    "def set_llm(temperature):\n",
    "    llm = ChatOpenAI(\n",
    "        model=Config.OPENAI_MODEL\n",
    "        , temperature=temperature\n",
    "        , api_key=Config.OPENAI_API_KEY\n",
    "    )\n",
    "    \n",
    "    return llm"
   ]
  },
  {
   "cell_type": "code",
   "execution_count": null,
   "metadata": {},
   "outputs": [],
   "source": [
    "prompt = \"\"\"당신은 면접관입니다. 다음은 AI 엔지니어 포지션, 경력 신입 수준 지원자를 위한 직무 이해도 관련 기존 면접 질문 예시입니다\n",
    "\n",
    "                    ---\n",
    "                    질문: AI의 정의와 AI 엔지니어의 역할은 무엇인가요?\n",
    "질문: AI 기술의 미래에 대해 어떻게 생각하나요?\n",
    "질문: AI 프로젝트에서 팀워크의 중요성에 대해 말씀해 주세요.\n",
    "질문: AI 모델의 성능을 어떻게 평가하나요?\n",
    "질문: AI의 윤리적 문제에 대해 어떻게 생각하나요?\n",
    "질문: 설명 가능한 AI(XAI)에 대한 당신의 생각은 무엇인가요?\n",
    "질문: 자연어 처리(NLP)에서 사용하는 일반적인 기법은 무엇인가요?\n",
    "질문: 강화 학습이란 무엇인가요?\n",
    "질문: 머신러닝과 딥러닝의 차이점은 무엇인가요?\n",
    "질문: 분류 문제와 회귀 문제의 차이점은 무엇인가요?\n",
    "                    ---\n",
    "\n",
    "                    위 예시들 중 선택해서 다음 조건을 만족하는 새로운 면접 질문 1개와  각 질문에 대한 모범 답변을 함께 생성해주세요:\n",
    "                    - 실제 면접에서 나올 수 있는 질문일 것\n",
    "                    - 직무 이해도 역량을 중점적으로 평가할 수 있을 것\n",
    "                    - 중복적인 질문은 하지 말 것\n",
    "                    - 존댓말을 사용할 것\n",
    "\n",
    "                    아래 형식으로 출력해주세요:\n",
    "                    1. 질문: ...\n",
    "                        모범 답변: ...\n",
    "                    2. 질문: ...\n",
    "                        모범 답변: ...\n",
    "                    ...\n",
    "\"\"\""
   ]
  }
 ],
 "metadata": {
  "kernelspec": {
   "display_name": "env_prj4",
   "language": "python",
   "name": "python3"
  },
  "language_info": {
   "codemirror_mode": {
    "name": "ipython",
    "version": 3
   },
   "file_extension": ".py",
   "mimetype": "text/x-python",
   "name": "python",
   "nbconvert_exporter": "python",
   "pygments_lexer": "ipython3",
   "version": "3.11.11"
  }
 },
 "nbformat": 4,
 "nbformat_minor": 2
}
